{
  "nbformat": 4,
  "nbformat_minor": 0,
  "metadata": {
    "colab": {
      "name": "Code.ipynb",
      "provenance": [],
      "collapsed_sections": []
    },
    "kernelspec": {
      "name": "python3",
      "display_name": "Python 3"
    },
    "language_info": {
      "name": "python"
    }
  },
  "cells": [
    {
      "cell_type": "markdown",
      "metadata": {
        "id": "GiK27aHG1SgH"
      },
      "source": [
        "# **Disease Prediction using GuassianNB, Dicision Tree and Random Forest classifiers.**"
      ]
    },
    {
      "cell_type": "code",
      "metadata": {
        "id": "BxTn4_vdwZXE"
      },
      "source": [
        "import numpy as np\n",
        "import pandas as pd\n",
        "from sklearn.model_selection import train_test_split\n",
        "from sklearn.naive_bayes import GaussianNB\n",
        "from sklearn.metrics import accuracy_score\n",
        "import matplotlib.pyplot as plt\n",
        "import seaborn as sns\n",
        "from sklearn.ensemble import RandomForestClassifier\n",
        "from sklearn.metrics import classification_report, confusion_matrix"
      ],
      "execution_count": null,
      "outputs": []
    },
    {
      "cell_type": "markdown",
      "metadata": {
        "id": "0TVGBMY9v3ho"
      },
      "source": [
        "## **Load data from .csv file**"
      ]
    },
    {
      "cell_type": "code",
      "metadata": {
        "id": "uSUuvZj1wkXs"
      },
      "source": [
        "df1 = pd.read_csv('dataset.csv', skipinitialspace=True)\n",
        "df1.columns = df1.columns.str.replace(' ', '')\n",
        "df = df1.replace(np.nan, 'None', regex=True)"
      ],
      "execution_count": null,
      "outputs": []
    },
    {
      "cell_type": "code",
      "metadata": {
        "colab": {
          "base_uri": "https://localhost:8080/"
        },
        "id": "iRYbb_AMw_g2",
        "outputId": "49518758-aae4-4666-cf3b-5f068eb14d00"
      },
      "source": [
        "df['Disease'] = df['Disease'].str.replace(' ', '_')\n",
        "disease = df['Disease'].values\n",
        "disease"
      ],
      "execution_count": null,
      "outputs": [
        {
          "output_type": "execute_result",
          "data": {
            "text/plain": [
              "array(['Fungal_infection', 'Fungal_infection', 'Fungal_infection', ...,\n",
              "       'Urinary_tract_infection', 'Psoriasis', 'Impetigo'], dtype=object)"
            ]
          },
          "metadata": {
            "tags": []
          },
          "execution_count": 267
        }
      ]
    },
    {
      "cell_type": "markdown",
      "metadata": {
        "id": "KGr5hULQwIkM"
      },
      "source": [
        "Extracting values from ech column, finding unique values, building the symptoms list, assigning the index value from symptom list to replace the symptom names in each column."
      ]
    },
    {
      "cell_type": "code",
      "metadata": {
        "colab": {
          "base_uri": "https://localhost:8080/"
        },
        "id": "vlkXVUPH6Ed_",
        "outputId": "87a00710-0211-4583-840c-ed4a3eddc0c1"
      },
      "source": [
        "symp = []\n",
        "\n",
        "for x in range(1,18):\n",
        "  globals()['s%s' % x] = df['Symptom_%s' % x].values\n",
        "  unique, counts = np.unique(globals()['s%s' % x], return_counts=True)\n",
        "  symp.extend(unique.tolist())\n",
        "\n",
        "def unique(list1):\n",
        "    x = np.array(list1)\n",
        "    return np.unique(x)\n",
        "\n",
        "k = unique(symp).tolist()\n",
        "k"
      ],
      "execution_count": null,
      "outputs": [
        {
          "output_type": "execute_result",
          "data": {
            "text/plain": [
              "['None',\n",
              " 'abdominal_pain',\n",
              " 'abnormal_menstruation',\n",
              " 'acidity',\n",
              " 'acute_liver_failure',\n",
              " 'altered_sensorium',\n",
              " 'anxiety',\n",
              " 'back_pain',\n",
              " 'belly_pain',\n",
              " 'blackheads',\n",
              " 'bladder_discomfort',\n",
              " 'blister',\n",
              " 'blood_in_sputum',\n",
              " 'bloody_stool',\n",
              " 'blurred_and_distorted_vision',\n",
              " 'breathlessness',\n",
              " 'brittle_nails',\n",
              " 'bruising',\n",
              " 'burning_micturition',\n",
              " 'chest_pain',\n",
              " 'chills',\n",
              " 'cold_hands_and_feets',\n",
              " 'coma',\n",
              " 'congestion',\n",
              " 'constipation',\n",
              " 'continuous_feel_of_urine',\n",
              " 'continuous_sneezing',\n",
              " 'cough',\n",
              " 'cramps',\n",
              " 'dark_urine',\n",
              " 'dehydration',\n",
              " 'depression',\n",
              " 'diarrhoea',\n",
              " 'dischromic _patches',\n",
              " 'distention_of_abdomen',\n",
              " 'dizziness',\n",
              " 'drying_and_tingling_lips',\n",
              " 'enlarged_thyroid',\n",
              " 'excessive_hunger',\n",
              " 'extra_marital_contacts',\n",
              " 'family_history',\n",
              " 'fast_heart_rate',\n",
              " 'fatigue',\n",
              " 'fluid_overload',\n",
              " 'foul_smell_of urine',\n",
              " 'headache',\n",
              " 'high_fever',\n",
              " 'hip_joint_pain',\n",
              " 'history_of_alcohol_consumption',\n",
              " 'increased_appetite',\n",
              " 'indigestion',\n",
              " 'inflammatory_nails',\n",
              " 'internal_itching',\n",
              " 'irregular_sugar_level',\n",
              " 'irritability',\n",
              " 'irritation_in_anus',\n",
              " 'itching',\n",
              " 'joint_pain',\n",
              " 'knee_pain',\n",
              " 'lack_of_concentration',\n",
              " 'lethargy',\n",
              " 'loss_of_appetite',\n",
              " 'loss_of_balance',\n",
              " 'loss_of_smell',\n",
              " 'malaise',\n",
              " 'mild_fever',\n",
              " 'mood_swings',\n",
              " 'movement_stiffness',\n",
              " 'mucoid_sputum',\n",
              " 'muscle_pain',\n",
              " 'muscle_wasting',\n",
              " 'muscle_weakness',\n",
              " 'nausea',\n",
              " 'neck_pain',\n",
              " 'nodal_skin_eruptions',\n",
              " 'obesity',\n",
              " 'pain_behind_the_eyes',\n",
              " 'pain_during_bowel_movements',\n",
              " 'pain_in_anal_region',\n",
              " 'painful_walking',\n",
              " 'palpitations',\n",
              " 'passage_of_gases',\n",
              " 'patches_in_throat',\n",
              " 'phlegm',\n",
              " 'polyuria',\n",
              " 'prominent_veins_on_calf',\n",
              " 'puffy_face_and_eyes',\n",
              " 'pus_filled_pimples',\n",
              " 'receiving_blood_transfusion',\n",
              " 'receiving_unsterile_injections',\n",
              " 'red_sore_around_nose',\n",
              " 'red_spots_over_body',\n",
              " 'redness_of_eyes',\n",
              " 'restlessness',\n",
              " 'runny_nose',\n",
              " 'rusty_sputum',\n",
              " 'scurring',\n",
              " 'shivering',\n",
              " 'silver_like_dusting',\n",
              " 'sinus_pressure',\n",
              " 'skin_peeling',\n",
              " 'skin_rash',\n",
              " 'slurred_speech',\n",
              " 'small_dents_in_nails',\n",
              " 'spinning_movements',\n",
              " 'spotting_ urination',\n",
              " 'stiff_neck',\n",
              " 'stomach_bleeding',\n",
              " 'stomach_pain',\n",
              " 'sunken_eyes',\n",
              " 'sweating',\n",
              " 'swelled_lymph_nodes',\n",
              " 'swelling_joints',\n",
              " 'swelling_of_stomach',\n",
              " 'swollen_blood_vessels',\n",
              " 'swollen_extremeties',\n",
              " 'swollen_legs',\n",
              " 'throat_irritation',\n",
              " 'toxic_look_(typhos)',\n",
              " 'ulcers_on_tongue',\n",
              " 'unsteadiness',\n",
              " 'visual_disturbances',\n",
              " 'vomiting',\n",
              " 'watering_from_eyes',\n",
              " 'weakness_in_limbs',\n",
              " 'weakness_of_one_body_side',\n",
              " 'weight_gain',\n",
              " 'weight_loss',\n",
              " 'yellow_crust_ooze',\n",
              " 'yellow_urine',\n",
              " 'yellowing_of_eyes',\n",
              " 'yellowish_skin']"
            ]
          },
          "metadata": {
            "tags": []
          },
          "execution_count": 268
        }
      ]
    },
    {
      "cell_type": "code",
      "metadata": {
        "colab": {
          "base_uri": "https://localhost:8080/"
        },
        "id": "ZpG39pxMSLvB",
        "outputId": "71cbb2fb-a6d2-4174-d90a-5d08965b29cd"
      },
      "source": [
        "s1"
      ],
      "execution_count": null,
      "outputs": [
        {
          "output_type": "execute_result",
          "data": {
            "text/plain": [
              "array(['itching', 'skin_rash', 'itching', ..., 'burning_micturition',\n",
              "       'skin_rash', 'skin_rash'], dtype=object)"
            ]
          },
          "metadata": {
            "tags": []
          },
          "execution_count": 269
        }
      ]
    },
    {
      "cell_type": "code",
      "metadata": {
        "id": "rb1I1y9ZAP8J"
      },
      "source": [
        "# Replacing symptoms names with index values from symptom list\n",
        "\n",
        "for x in range(1, 18):\n",
        "  for i in range(len(globals()['s%s' % x])):\n",
        "    if globals()['s%s' % x][i] in k:\n",
        "      globals()['s%s' % x][i] = k.index(globals()['s%s' % x][i])"
      ],
      "execution_count": null,
      "outputs": []
    },
    {
      "cell_type": "code",
      "metadata": {
        "id": "q1yxgK7QxRwG"
      },
      "source": [
        "x = df.drop('Disease', axis=1)\n",
        "y = df['Disease']"
      ],
      "execution_count": null,
      "outputs": []
    },
    {
      "cell_type": "code",
      "metadata": {
        "colab": {
          "base_uri": "https://localhost:8080/"
        },
        "id": "HgzaWDCmMfJC",
        "outputId": "be1639b9-0f2f-4e40-eb30-34ac57336aac"
      },
      "source": [
        "x.shape"
      ],
      "execution_count": null,
      "outputs": [
        {
          "output_type": "execute_result",
          "data": {
            "text/plain": [
              "(4920, 17)"
            ]
          },
          "metadata": {
            "tags": []
          },
          "execution_count": 273
        }
      ]
    },
    {
      "cell_type": "code",
      "metadata": {
        "id": "58MA-3CKnpaC"
      },
      "source": [
        "x = np.column_stack((s1,s2,s3,s4,s5,s6,s7,s8,s9,s10,s11,s12,s13,s14,s15,s16,s17))\n",
        "y = disease"
      ],
      "execution_count": null,
      "outputs": []
    },
    {
      "cell_type": "markdown",
      "metadata": {
        "id": "3bYIrf0r0vus"
      },
      "source": [
        "## Removing duplicates from Train and Test splits"
      ]
    },
    {
      "cell_type": "code",
      "metadata": {
        "colab": {
          "base_uri": "https://localhost:8080/"
        },
        "id": "g1hlnjOCs6gR",
        "outputId": "15120ed9-642c-4b7c-f543-911d0262188d"
      },
      "source": [
        "initial_number_of_data_points = len(x)\n",
        "\n",
        "\n",
        "def get_unique(X_matrix, y_vector):\n",
        "    Xy = list(set(list(zip([tuple(x) for x in X_matrix], y_vector))))\n",
        "    X_matrix = [list(l[0]) for l in Xy]\n",
        "    y_vector = [l[1] for l in Xy]\n",
        "    return X_matrix, y_vector\n",
        "\n",
        "\n",
        "x, y = get_unique(x, y)\n",
        "data_points_removed = initial_number_of_data_points - len(x)\n",
        "print(\"Number of duplicates removed:\", data_points_removed )"
      ],
      "execution_count": null,
      "outputs": [
        {
          "output_type": "stream",
          "text": [
            "Number of duplicates removed: 4616\n"
          ],
          "name": "stdout"
        }
      ]
    },
    {
      "cell_type": "code",
      "metadata": {
        "id": "xZGILGBkxsMK"
      },
      "source": [
        "x_train, x_test, y_train, y_test = train_test_split(x, y, test_size=0.25, random_state=42)"
      ],
      "execution_count": null,
      "outputs": []
    },
    {
      "cell_type": "code",
      "metadata": {
        "colab": {
          "base_uri": "https://localhost:8080/"
        },
        "id": "KHCccTS3xzm7",
        "outputId": "b75547b9-b57f-4e0f-c3b0-eefac6721663"
      },
      "source": [
        "model = GaussianNB()\n",
        "model.fit(x_train, y_train)"
      ],
      "execution_count": null,
      "outputs": [
        {
          "output_type": "execute_result",
          "data": {
            "text/plain": [
              "GaussianNB(priors=None, var_smoothing=1e-09)"
            ]
          },
          "metadata": {
            "tags": []
          },
          "execution_count": 286
        }
      ]
    },
    {
      "cell_type": "code",
      "metadata": {
        "id": "UQ58ezFHyWxB",
        "colab": {
          "base_uri": "https://localhost:8080/"
        },
        "outputId": "97fa8fc5-a0d6-443a-ba51-d3483bc29ebe"
      },
      "source": [
        "y_pred = model.predict(x_test)\n",
        "y_pred"
      ],
      "execution_count": null,
      "outputs": [
        {
          "output_type": "execute_result",
          "data": {
            "text/plain": [
              "array(['Malaria', 'Malaria', 'Fungal_infection', 'hepatitis_A', 'Allergy',\n",
              "       'Hepatitis_E', 'Hepatitis_E', 'Impetigo', 'Impetigo',\n",
              "       'Hepatitis_E', 'Allergy', 'Tuberculosis', 'Jaundice',\n",
              "       'Hepatitis_B', 'Jaundice', 'hepatitis_A', 'Diabetes_',\n",
              "       'Chicken_pox', 'Pneumonia', 'Allergy', 'GERD',\n",
              "       '(vertigo)_Paroymsal__Positional_Vertigo', 'Hypoglycemia',\n",
              "       'Chicken_pox', 'Paralysis_(brain_hemorrhage)',\n",
              "       '(vertigo)_Paroymsal__Positional_Vertigo', 'Varicose_veins',\n",
              "       'Hepatitis_E', 'Peptic_ulcer_diseae', 'Fungal_infection',\n",
              "       'Common_Cold', 'Malaria', 'Fungal_infection',\n",
              "       'Alcoholic_hepatitis', 'Peptic_ulcer_diseae', 'GERD',\n",
              "       'Paralysis_(brain_hemorrhage)', 'Pneumonia', 'Jaundice',\n",
              "       'Alcoholic_hepatitis', 'Hepatitis_D', 'Malaria',\n",
              "       'Fungal_infection', 'Hypoglycemia', 'Malaria', 'Malaria',\n",
              "       'Peptic_ulcer_diseae', 'Chronic_cholestasis', 'Chicken_pox',\n",
              "       'Allergy', 'hepatitis_A', 'Cervical_spondylosis', 'Jaundice',\n",
              "       'Allergy', 'Hepatitis_E', 'Cervical_spondylosis', 'Hepatitis_C',\n",
              "       'Pneumonia', 'Bronchial_Asthma', 'Diabetes_', 'Fungal_infection',\n",
              "       'Drug_Reaction', 'Pneumonia', 'Jaundice', 'Peptic_ulcer_diseae',\n",
              "       'Hepatitis_D', 'Hyperthyroidism', 'Alcoholic_hepatitis',\n",
              "       'Chicken_pox', 'Allergy', 'Pneumonia', 'Malaria',\n",
              "       '(vertigo)_Paroymsal__Positional_Vertigo', 'Allergy',\n",
              "       'Varicose_veins', 'Urinary_tract_infection'], dtype='<U39')"
            ]
          },
          "metadata": {
            "tags": []
          },
          "execution_count": 287
        }
      ]
    },
    {
      "cell_type": "code",
      "metadata": {
        "colab": {
          "base_uri": "https://localhost:8080/"
        },
        "id": "oEnngUWqo6ML",
        "outputId": "1d072dab-e804-4a2f-df11-21bb8d089d7c"
      },
      "source": [
        "print(\"GaussianNB Accuracy:\", accuracy_score(y_test, y_pred)*100)"
      ],
      "execution_count": null,
      "outputs": [
        {
          "output_type": "stream",
          "text": [
            "GaussianNB Accuracy: 56.57894736842105\n"
          ],
          "name": "stdout"
        }
      ]
    },
    {
      "cell_type": "code",
      "metadata": {
        "colab": {
          "base_uri": "https://localhost:8080/"
        },
        "id": "aWMPcT_1pJ6o",
        "outputId": "c4910d87-1f54-4336-a53e-67056e7d60c1"
      },
      "source": [
        "from sklearn.tree import DecisionTreeClassifier\n",
        "from sklearn.metrics import accuracy_score\n",
        "\n",
        "# Create Decision Tree classifer object\n",
        "clf = DecisionTreeClassifier(criterion='entropy', random_state=0 )\n",
        "\n",
        "# Train Decision Tree Classifer\n",
        "clf.fit(x_train,y_train)\n",
        "y_pred = clf.predict(x_test)\n",
        "#print(y_pred)\n",
        "print(\"Decision Tree classifer Accuracy:\", accuracy_score(y_test, y_pred)*100)"
      ],
      "execution_count": null,
      "outputs": [
        {
          "output_type": "stream",
          "text": [
            "Decision Tree classifer Accuracy: 67.10526315789474\n"
          ],
          "name": "stdout"
        }
      ]
    },
    {
      "cell_type": "code",
      "metadata": {
        "colab": {
          "base_uri": "https://localhost:8080/"
        },
        "id": "nv1Btsx_pf_2",
        "outputId": "72f14730-d3d6-4176-fd6a-6e9ff92eb7cb"
      },
      "source": [
        "rfc = RandomForestClassifier()\n",
        "rfc.fit(x_train, y_train)\n",
        "result = rfc.predict(x_test)\n",
        "print(\"Random Forest Classifier Accuracy:\", accuracy_score(y_test, result)*100)"
      ],
      "execution_count": null,
      "outputs": [
        {
          "output_type": "stream",
          "text": [
            "Random Forest Classifier Accuracy: 93.42105263157895\n"
          ],
          "name": "stdout"
        }
      ]
    },
    {
      "cell_type": "code",
      "metadata": {
        "colab": {
          "base_uri": "https://localhost:8080/"
        },
        "id": "CQokNQqB0Zuf",
        "outputId": "3216bfac-88fc-4813-c393-c70e69f1ee7c"
      },
      "source": [
        "print(classification_report(y_test, result))"
      ],
      "execution_count": null,
      "outputs": [
        {
          "output_type": "stream",
          "text": [
            "                                         precision    recall  f1-score   support\n",
            "\n",
            "(vertigo)_Paroymsal__Positional_Vertigo       1.00      1.00      1.00         2\n",
            "                                   AIDS       1.00      1.00      1.00         1\n",
            "                    Alcoholic_hepatitis       1.00      1.00      1.00         4\n",
            "                              Arthritis       1.00      1.00      1.00         1\n",
            "                       Bronchial_Asthma       1.00      1.00      1.00         1\n",
            "                   Cervical_spondylosis       1.00      1.00      1.00         1\n",
            "                            Chicken_pox       1.00      1.00      1.00         4\n",
            "                    Chronic_cholestasis       1.00      1.00      1.00         1\n",
            "                            Common_Cold       1.00      1.00      1.00         1\n",
            "                                 Dengue       1.00      1.00      1.00         1\n",
            "                              Diabetes_       1.00      1.00      1.00         1\n",
            "                          Drug_Reaction       0.00      0.00      0.00         0\n",
            "                       Fungal_infection       1.00      0.50      0.67         2\n",
            "                                   GERD       1.00      1.00      1.00         3\n",
            "                        Gastroenteritis       0.67      1.00      0.80         2\n",
            "                           Heart_attack       0.00      0.00      0.00         2\n",
            "                            Hepatitis_B       1.00      1.00      1.00         1\n",
            "                            Hepatitis_C       1.00      1.00      1.00         1\n",
            "                            Hepatitis_D       1.00      1.00      1.00         2\n",
            "                            Hepatitis_E       1.00      1.00      1.00         3\n",
            "                          Hypertension_       1.00      1.00      1.00         2\n",
            "                        Hyperthyroidism       1.00      1.00      1.00         3\n",
            "                           Hypoglycemia       1.00      0.75      0.86         4\n",
            "                         Hypothyroidism       0.00      0.00      0.00         1\n",
            "                               Impetigo       1.00      1.00      1.00         2\n",
            "                               Jaundice       1.00      1.00      1.00         4\n",
            "                                Malaria       1.00      1.00      1.00         4\n",
            "                               Migraine       1.00      1.00      1.00         2\n",
            "                        Osteoarthristis       1.00      1.00      1.00         1\n",
            "           Paralysis_(brain_hemorrhage)       1.00      1.00      1.00         2\n",
            "                    Peptic_ulcer_diseae       1.00      1.00      1.00         4\n",
            "                              Pneumonia       0.75      1.00      0.86         3\n",
            "                              Psoriasis       1.00      1.00      1.00         2\n",
            "                                Typhoid       0.50      1.00      0.67         1\n",
            "                Urinary_tract_infection       0.67      1.00      0.80         2\n",
            "                         Varicose_veins       1.00      1.00      1.00         3\n",
            "                            hepatitis_A       1.00      1.00      1.00         2\n",
            "\n",
            "                               accuracy                           0.93        76\n",
            "                              macro avg       0.88      0.90      0.88        76\n",
            "                           weighted avg       0.93      0.93      0.92        76\n",
            "\n"
          ],
          "name": "stdout"
        },
        {
          "output_type": "stream",
          "text": [
            "/usr/local/lib/python3.7/dist-packages/sklearn/metrics/_classification.py:1272: UndefinedMetricWarning: Precision and F-score are ill-defined and being set to 0.0 in labels with no predicted samples. Use `zero_division` parameter to control this behavior.\n",
            "  _warn_prf(average, modifier, msg_start, len(result))\n",
            "/usr/local/lib/python3.7/dist-packages/sklearn/metrics/_classification.py:1272: UndefinedMetricWarning: Recall and F-score are ill-defined and being set to 0.0 in labels with no true samples. Use `zero_division` parameter to control this behavior.\n",
            "  _warn_prf(average, modifier, msg_start, len(result))\n"
          ],
          "name": "stderr"
        }
      ]
    },
    {
      "cell_type": "code",
      "metadata": {
        "colab": {
          "base_uri": "https://localhost:8080/"
        },
        "id": "LiTf-kB4qiXt",
        "outputId": "89f71b38-445b-45c7-e2bf-c66251f800dd"
      },
      "source": [
        "from sklearn.metrics import confusion_matrix\n",
        "cm = confusion_matrix(y_test, y_pred)\n",
        "print(cm)"
      ],
      "execution_count": null,
      "outputs": [
        {
          "output_type": "stream",
          "text": [
            "[[2 0 0 ... 0 0 0]\n",
            " [0 1 0 ... 0 0 0]\n",
            " [0 0 2 ... 0 0 0]\n",
            " ...\n",
            " [0 0 0 ... 2 0 0]\n",
            " [0 0 0 ... 0 3 0]\n",
            " [0 0 0 ... 0 0 2]]\n"
          ],
          "name": "stdout"
        }
      ]
    },
    {
      "cell_type": "code",
      "metadata": {
        "colab": {
          "base_uri": "https://localhost:8080/",
          "height": 615
        },
        "id": "4g9thL2zsm8f",
        "outputId": "28ef7089-33cb-4cc8-a695-0822fc78e3cf"
      },
      "source": [
        "fig, ax = plt.subplots(figsize = (10,10))\n",
        "sns.heatmap(confusion_matrix(y_true = y_test, y_pred = result), ax = ax)"
      ],
      "execution_count": null,
      "outputs": [
        {
          "output_type": "execute_result",
          "data": {
            "text/plain": [
              "<matplotlib.axes._subplots.AxesSubplot at 0x7f661ee9fa50>"
            ]
          },
          "metadata": {
            "tags": []
          },
          "execution_count": 285
        },
        {
          "output_type": "display_data",
          "data": {
            "image/png": "[encoded data removed]",
            "text/plain": [
              "<Figure size 720x720 with 2 Axes>"
            ]
          },
          "metadata": {
            "tags": [],
            "needs_background": "light"
          }
        }
      ]
    },
    {
      "cell_type": "code",
      "metadata": {
        "id": "79ID9TyPugW6"
      },
      "source": [
        ""
      ],
      "execution_count": null,
      "outputs": []
    }
  ]
}